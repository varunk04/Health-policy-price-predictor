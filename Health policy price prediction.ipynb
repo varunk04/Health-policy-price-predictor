{
 "cells": [
  {
   "cell_type": "code",
   "execution_count": 1,
   "id": "103241a6-b78e-46f9-b3d2-e33619111342",
   "metadata": {},
   "outputs": [],
   "source": [
    "# Importing necessary libraries\n",
    "import pandas as pd\n",
    "import numpy as np\n",
    "\n",
    "#importing the visulization libraries\n",
    "import matplotlib.pyplot as plt\n",
    "import seaborn as sns\n",
    "\n",
    "#Ignoring values\n",
    "import warnings\n",
    "warnings.filterwarnings('ignore')\n",
    "\n",
    "# Multicolinearity test libraries\n",
    "from statsmodels.stats.outliers_influence import variance_inflation_factor\n",
    "\n",
    "#Model selection librarries\n",
    "from sklearn.model_selection import cross_val_score,train_test_split, KFold, GridSearchCV\n",
    "\n",
    "#ML modelsLibraries\n",
    "from sklearn.linear_model import LinearRegression, Lasso, Ridge\n",
    "from sklearn.tree import DecisionTreeRegressor\n",
    "from sklearn.svm import SVR\n",
    "from sklearn.neighbors import KNeighborsRegressor\n",
    "from sklearn.ensemble import AdaBoostRegressor,GradientBoostingRegressor,RandomForestRegressor\n",
    "\n",
    "import xgboost\n",
    "from xgboost import XGBRegressor\n",
    "\n",
    "#model evaluation libraries\n",
    "from sklearn.metrics import mean_squared_error,r2_score"
   ]
  },
  {
   "cell_type": "markdown",
   "id": "293d9041",
   "metadata": {},
   "source": [
    "### Importing the data:"
   ]
  },
  {
   "cell_type": "code",
   "execution_count": 2,
   "id": "f870614f-33b1-4313-94df-a489b9ca58e4",
   "metadata": {},
   "outputs": [],
   "source": [
    "df1= pd.read_excel(\"Medibuddy insurance data personal details (1) (2).xlsx\")\n",
    "df2 = pd.read_excel(\"Medibuddy Insurance Data Price (1) (2).xlsx\")"
   ]
  },
  {
   "cell_type": "markdown",
   "id": "b712165a",
   "metadata": {},
   "source": [
    "### Checking both the dataframes for any discrepency in the data."
   ]
  },
  {
   "cell_type": "code",
   "execution_count": 3,
   "id": "effb9290-d8c7-4950-9d6e-0305bfe4ca12",
   "metadata": {},
   "outputs": [
    {
     "name": "stdout",
     "output_type": "stream",
     "text": [
      "<class 'pandas.core.frame.DataFrame'>\n",
      "RangeIndex: 1338 entries, 0 to 1337\n",
      "Data columns (total 4 columns):\n",
      " #   Column      Non-Null Count  Dtype \n",
      "---  ------      --------------  ----- \n",
      " 0   Policy no.  1338 non-null   object\n",
      " 1   children    1338 non-null   int64 \n",
      " 2   smoker      1338 non-null   object\n",
      " 3   region      1338 non-null   object\n",
      "dtypes: int64(1), object(3)\n",
      "memory usage: 41.9+ KB\n"
     ]
    }
   ],
   "source": [
    "df1.info()"
   ]
  },
  {
   "cell_type": "code",
   "execution_count": 4,
   "id": "8f2b7a60-30e9-48fd-94c1-b4c9b0131527",
   "metadata": {},
   "outputs": [
    {
     "name": "stdout",
     "output_type": "stream",
     "text": [
      "<class 'pandas.core.frame.DataFrame'>\n",
      "RangeIndex: 1338 entries, 0 to 1337\n",
      "Data columns (total 5 columns):\n",
      " #   Column          Non-Null Count  Dtype  \n",
      "---  ------          --------------  -----  \n",
      " 0   Policy no.      1338 non-null   object \n",
      " 1   age             1338 non-null   float64\n",
      " 2   sex             1338 non-null   object \n",
      " 3   bmi             1338 non-null   float64\n",
      " 4   charges in INR  1338 non-null   float64\n",
      "dtypes: float64(3), object(2)\n",
      "memory usage: 52.4+ KB\n"
     ]
    }
   ],
   "source": [
    "df2.info()"
   ]
  },
  {
   "cell_type": "code",
   "execution_count": 5,
   "id": "47d08d7c-4d25-43af-854a-ab20b156352b",
   "metadata": {},
   "outputs": [
    {
     "data": {
      "text/plain": [
       "Policy no.    0\n",
       "children      0\n",
       "smoker        0\n",
       "region        0\n",
       "dtype: int64"
      ]
     },
     "execution_count": 5,
     "metadata": {},
     "output_type": "execute_result"
    }
   ],
   "source": [
    "df1.isnull().sum()"
   ]
  },
  {
   "cell_type": "code",
   "execution_count": 6,
   "id": "995307d8",
   "metadata": {},
   "outputs": [
    {
     "data": {
      "text/plain": [
       "Policy no.        0\n",
       "age               0\n",
       "sex               0\n",
       "bmi               0\n",
       "charges in INR    0\n",
       "dtype: int64"
      ]
     },
     "execution_count": 6,
     "metadata": {},
     "output_type": "execute_result"
    }
   ],
   "source": [
    "df2.isnull().sum()"
   ]
  },
  {
   "cell_type": "markdown",
   "id": "09a89ce2",
   "metadata": {},
   "source": [
    "### Both the dataframes do not have any missing values, hence they can be merged."
   ]
  },
  {
   "cell_type": "code",
   "execution_count": 7,
   "id": "8c7651e6-cdee-4215-9ebc-b1d8ec7c0667",
   "metadata": {},
   "outputs": [],
   "source": [
    "#MERGING THE BOTH DATAFRAMES ON POLICY NO.\n",
    "\n",
    "df_merge = pd.merge(df2, df1, how='inner', on='Policy no.')"
   ]
  },
  {
   "cell_type": "code",
   "execution_count": 8,
   "id": "0e759885-866a-4c65-9c47-de2ecebc3e03",
   "metadata": {},
   "outputs": [
    {
     "name": "stdout",
     "output_type": "stream",
     "text": [
      "<class 'pandas.core.frame.DataFrame'>\n",
      "Int64Index: 1338 entries, 0 to 1337\n",
      "Data columns (total 8 columns):\n",
      " #   Column          Non-Null Count  Dtype  \n",
      "---  ------          --------------  -----  \n",
      " 0   Policy no.      1338 non-null   object \n",
      " 1   age             1338 non-null   float64\n",
      " 2   sex             1338 non-null   object \n",
      " 3   bmi             1338 non-null   float64\n",
      " 4   charges in INR  1338 non-null   float64\n",
      " 5   children        1338 non-null   int64  \n",
      " 6   smoker          1338 non-null   object \n",
      " 7   region          1338 non-null   object \n",
      "dtypes: float64(3), int64(1), object(4)\n",
      "memory usage: 94.1+ KB\n"
     ]
    }
   ],
   "source": [
    "df_merge.info()"
   ]
  },
  {
   "cell_type": "code",
   "execution_count": 9,
   "id": "81f2b546-f5a1-41bd-acb0-66ebecc9f863",
   "metadata": {},
   "outputs": [
    {
     "data": {
      "text/plain": [
       "Policy no.        0\n",
       "age               0\n",
       "sex               0\n",
       "bmi               0\n",
       "charges in INR    0\n",
       "children          0\n",
       "smoker            0\n",
       "region            0\n",
       "dtype: int64"
      ]
     },
     "execution_count": 9,
     "metadata": {},
     "output_type": "execute_result"
    }
   ],
   "source": [
    "df_merge.isnull().sum()"
   ]
  },
  {
   "cell_type": "code",
   "execution_count": 10,
   "id": "6ad2ce8a",
   "metadata": {},
   "outputs": [
    {
     "data": {
      "text/html": [
       "<div>\n",
       "<style scoped>\n",
       "    .dataframe tbody tr th:only-of-type {\n",
       "        vertical-align: middle;\n",
       "    }\n",
       "\n",
       "    .dataframe tbody tr th {\n",
       "        vertical-align: top;\n",
       "    }\n",
       "\n",
       "    .dataframe thead th {\n",
       "        text-align: right;\n",
       "    }\n",
       "</style>\n",
       "<table border=\"1\" class=\"dataframe\">\n",
       "  <thead>\n",
       "    <tr style=\"text-align: right;\">\n",
       "      <th></th>\n",
       "      <th>Policy no.</th>\n",
       "      <th>age</th>\n",
       "      <th>sex</th>\n",
       "      <th>bmi</th>\n",
       "      <th>charges in INR</th>\n",
       "      <th>children</th>\n",
       "      <th>smoker</th>\n",
       "      <th>region</th>\n",
       "    </tr>\n",
       "  </thead>\n",
       "  <tbody>\n",
       "    <tr>\n",
       "      <th>0</th>\n",
       "      <td>PLC156898</td>\n",
       "      <td>19.0</td>\n",
       "      <td>female</td>\n",
       "      <td>27.900</td>\n",
       "      <td>16884.92400</td>\n",
       "      <td>0</td>\n",
       "      <td>yes</td>\n",
       "      <td>southwest</td>\n",
       "    </tr>\n",
       "    <tr>\n",
       "      <th>1</th>\n",
       "      <td>PLC156907</td>\n",
       "      <td>18.0</td>\n",
       "      <td>male</td>\n",
       "      <td>33.770</td>\n",
       "      <td>1725.55230</td>\n",
       "      <td>1</td>\n",
       "      <td>no</td>\n",
       "      <td>southeast</td>\n",
       "    </tr>\n",
       "    <tr>\n",
       "      <th>2</th>\n",
       "      <td>PLC156916</td>\n",
       "      <td>28.0</td>\n",
       "      <td>male</td>\n",
       "      <td>33.000</td>\n",
       "      <td>4449.46200</td>\n",
       "      <td>3</td>\n",
       "      <td>no</td>\n",
       "      <td>southeast</td>\n",
       "    </tr>\n",
       "    <tr>\n",
       "      <th>3</th>\n",
       "      <td>PLC156925</td>\n",
       "      <td>33.0</td>\n",
       "      <td>male</td>\n",
       "      <td>22.705</td>\n",
       "      <td>21984.47061</td>\n",
       "      <td>0</td>\n",
       "      <td>no</td>\n",
       "      <td>northwest</td>\n",
       "    </tr>\n",
       "    <tr>\n",
       "      <th>4</th>\n",
       "      <td>PLC156934</td>\n",
       "      <td>32.0</td>\n",
       "      <td>male</td>\n",
       "      <td>28.880</td>\n",
       "      <td>3866.85520</td>\n",
       "      <td>0</td>\n",
       "      <td>no</td>\n",
       "      <td>northwest</td>\n",
       "    </tr>\n",
       "  </tbody>\n",
       "</table>\n",
       "</div>"
      ],
      "text/plain": [
       "  Policy no.   age     sex     bmi  charges in INR  children smoker     region\n",
       "0  PLC156898  19.0  female  27.900     16884.92400         0    yes  southwest\n",
       "1  PLC156907  18.0    male  33.770      1725.55230         1     no  southeast\n",
       "2  PLC156916  28.0    male  33.000      4449.46200         3     no  southeast\n",
       "3  PLC156925  33.0    male  22.705     21984.47061         0     no  northwest\n",
       "4  PLC156934  32.0    male  28.880      3866.85520         0     no  northwest"
      ]
     },
     "execution_count": 10,
     "metadata": {},
     "output_type": "execute_result"
    }
   ],
   "source": [
    "df_merge.head()"
   ]
  },
  {
   "cell_type": "markdown",
   "id": "c232ca6d",
   "metadata": {},
   "source": [
    "FROM THE DATA WE CAN SEE THAT THERE ARE THREE CATEGORICAL VARIABLES('SEX','SMOKER','REGION'), HENCE THEY AHVE TO CONVERTED TO NUMRICAL TYPE.\n",
    "THIS IS ACHIVED BY CARRYING OUT ONE HOT ENCODING."
   ]
  },
  {
   "cell_type": "code",
   "execution_count": 11,
   "id": "99ffc5a3",
   "metadata": {},
   "outputs": [],
   "source": [
    "ohe_sex = pd.get_dummies(df_merge['sex'], drop_first=True)\n",
    "ohe_smoker = pd.get_dummies(df_merge['smoker'], drop_first=True)\n",
    "ohe_region = pd.get_dummies(df_merge['region'], drop_first=True)"
   ]
  },
  {
   "cell_type": "code",
   "execution_count": 12,
   "id": "2ef8962b",
   "metadata": {},
   "outputs": [],
   "source": [
    "data = df_merge.copy()"
   ]
  },
  {
   "cell_type": "code",
   "execution_count": 13,
   "id": "1f938847",
   "metadata": {},
   "outputs": [],
   "source": [
    "data['male']= ohe_sex\n",
    "data[['northwest','southeast','southwest']]=ohe_region\n",
    "data['smoker'] = ohe_smoker"
   ]
  },
  {
   "cell_type": "code",
   "execution_count": 14,
   "id": "e38a6678",
   "metadata": {},
   "outputs": [],
   "source": [
    "data.drop(['sex','region','Policy no.'], axis=1, inplace=True)"
   ]
  },
  {
   "cell_type": "code",
   "execution_count": 15,
   "id": "60c2911f",
   "metadata": {},
   "outputs": [
    {
     "data": {
      "text/html": [
       "<div>\n",
       "<style scoped>\n",
       "    .dataframe tbody tr th:only-of-type {\n",
       "        vertical-align: middle;\n",
       "    }\n",
       "\n",
       "    .dataframe tbody tr th {\n",
       "        vertical-align: top;\n",
       "    }\n",
       "\n",
       "    .dataframe thead th {\n",
       "        text-align: right;\n",
       "    }\n",
       "</style>\n",
       "<table border=\"1\" class=\"dataframe\">\n",
       "  <thead>\n",
       "    <tr style=\"text-align: right;\">\n",
       "      <th></th>\n",
       "      <th>age</th>\n",
       "      <th>bmi</th>\n",
       "      <th>charges in INR</th>\n",
       "      <th>children</th>\n",
       "      <th>smoker</th>\n",
       "      <th>male</th>\n",
       "      <th>northwest</th>\n",
       "      <th>southeast</th>\n",
       "      <th>southwest</th>\n",
       "    </tr>\n",
       "  </thead>\n",
       "  <tbody>\n",
       "    <tr>\n",
       "      <th>0</th>\n",
       "      <td>19.0</td>\n",
       "      <td>27.900</td>\n",
       "      <td>16884.92400</td>\n",
       "      <td>0</td>\n",
       "      <td>1</td>\n",
       "      <td>0</td>\n",
       "      <td>0</td>\n",
       "      <td>0</td>\n",
       "      <td>1</td>\n",
       "    </tr>\n",
       "    <tr>\n",
       "      <th>1</th>\n",
       "      <td>18.0</td>\n",
       "      <td>33.770</td>\n",
       "      <td>1725.55230</td>\n",
       "      <td>1</td>\n",
       "      <td>0</td>\n",
       "      <td>1</td>\n",
       "      <td>0</td>\n",
       "      <td>1</td>\n",
       "      <td>0</td>\n",
       "    </tr>\n",
       "    <tr>\n",
       "      <th>2</th>\n",
       "      <td>28.0</td>\n",
       "      <td>33.000</td>\n",
       "      <td>4449.46200</td>\n",
       "      <td>3</td>\n",
       "      <td>0</td>\n",
       "      <td>1</td>\n",
       "      <td>0</td>\n",
       "      <td>1</td>\n",
       "      <td>0</td>\n",
       "    </tr>\n",
       "    <tr>\n",
       "      <th>3</th>\n",
       "      <td>33.0</td>\n",
       "      <td>22.705</td>\n",
       "      <td>21984.47061</td>\n",
       "      <td>0</td>\n",
       "      <td>0</td>\n",
       "      <td>1</td>\n",
       "      <td>1</td>\n",
       "      <td>0</td>\n",
       "      <td>0</td>\n",
       "    </tr>\n",
       "    <tr>\n",
       "      <th>4</th>\n",
       "      <td>32.0</td>\n",
       "      <td>28.880</td>\n",
       "      <td>3866.85520</td>\n",
       "      <td>0</td>\n",
       "      <td>0</td>\n",
       "      <td>1</td>\n",
       "      <td>1</td>\n",
       "      <td>0</td>\n",
       "      <td>0</td>\n",
       "    </tr>\n",
       "  </tbody>\n",
       "</table>\n",
       "</div>"
      ],
      "text/plain": [
       "    age     bmi  charges in INR  children  smoker  male  northwest  southeast  \\\n",
       "0  19.0  27.900     16884.92400         0       1     0          0          0   \n",
       "1  18.0  33.770      1725.55230         1       0     1          0          1   \n",
       "2  28.0  33.000      4449.46200         3       0     1          0          1   \n",
       "3  33.0  22.705     21984.47061         0       0     1          1          0   \n",
       "4  32.0  28.880      3866.85520         0       0     1          1          0   \n",
       "\n",
       "   southwest  \n",
       "0          1  \n",
       "1          0  \n",
       "2          0  \n",
       "3          0  \n",
       "4          0  "
      ]
     },
     "execution_count": 15,
     "metadata": {},
     "output_type": "execute_result"
    }
   ],
   "source": [
    "data.head()"
   ]
  },
  {
   "cell_type": "markdown",
   "id": "1bca72ed",
   "metadata": {},
   "source": [
    "## EDA(Exploratory Data Analysis)"
   ]
  },
  {
   "cell_type": "code",
   "execution_count": 16,
   "id": "a9763ea2",
   "metadata": {},
   "outputs": [
    {
     "data": {
      "text/html": [
       "<div>\n",
       "<style scoped>\n",
       "    .dataframe tbody tr th:only-of-type {\n",
       "        vertical-align: middle;\n",
       "    }\n",
       "\n",
       "    .dataframe tbody tr th {\n",
       "        vertical-align: top;\n",
       "    }\n",
       "\n",
       "    .dataframe thead th {\n",
       "        text-align: right;\n",
       "    }\n",
       "</style>\n",
       "<table border=\"1\" class=\"dataframe\">\n",
       "  <thead>\n",
       "    <tr style=\"text-align: right;\">\n",
       "      <th></th>\n",
       "      <th>age</th>\n",
       "      <th>bmi</th>\n",
       "      <th>charges in INR</th>\n",
       "      <th>children</th>\n",
       "      <th>smoker</th>\n",
       "      <th>male</th>\n",
       "      <th>northwest</th>\n",
       "      <th>southeast</th>\n",
       "      <th>southwest</th>\n",
       "    </tr>\n",
       "  </thead>\n",
       "  <tbody>\n",
       "    <tr>\n",
       "      <th>count</th>\n",
       "      <td>1338.000000</td>\n",
       "      <td>1338.000000</td>\n",
       "      <td>1338.000000</td>\n",
       "      <td>1338.000000</td>\n",
       "      <td>1338.000000</td>\n",
       "      <td>1338.000000</td>\n",
       "      <td>1338.000000</td>\n",
       "      <td>1338.000000</td>\n",
       "      <td>1338.000000</td>\n",
       "    </tr>\n",
       "    <tr>\n",
       "      <th>mean</th>\n",
       "      <td>39.207025</td>\n",
       "      <td>30.663397</td>\n",
       "      <td>13270.422265</td>\n",
       "      <td>1.094918</td>\n",
       "      <td>0.204783</td>\n",
       "      <td>0.505232</td>\n",
       "      <td>0.242900</td>\n",
       "      <td>0.272048</td>\n",
       "      <td>0.242900</td>\n",
       "    </tr>\n",
       "    <tr>\n",
       "      <th>std</th>\n",
       "      <td>14.049960</td>\n",
       "      <td>6.098187</td>\n",
       "      <td>12110.011237</td>\n",
       "      <td>1.205493</td>\n",
       "      <td>0.403694</td>\n",
       "      <td>0.500160</td>\n",
       "      <td>0.428995</td>\n",
       "      <td>0.445181</td>\n",
       "      <td>0.428995</td>\n",
       "    </tr>\n",
       "    <tr>\n",
       "      <th>min</th>\n",
       "      <td>18.000000</td>\n",
       "      <td>15.960000</td>\n",
       "      <td>1121.873900</td>\n",
       "      <td>0.000000</td>\n",
       "      <td>0.000000</td>\n",
       "      <td>0.000000</td>\n",
       "      <td>0.000000</td>\n",
       "      <td>0.000000</td>\n",
       "      <td>0.000000</td>\n",
       "    </tr>\n",
       "    <tr>\n",
       "      <th>25%</th>\n",
       "      <td>27.000000</td>\n",
       "      <td>26.296250</td>\n",
       "      <td>4740.287150</td>\n",
       "      <td>0.000000</td>\n",
       "      <td>0.000000</td>\n",
       "      <td>0.000000</td>\n",
       "      <td>0.000000</td>\n",
       "      <td>0.000000</td>\n",
       "      <td>0.000000</td>\n",
       "    </tr>\n",
       "    <tr>\n",
       "      <th>50%</th>\n",
       "      <td>39.000000</td>\n",
       "      <td>30.400000</td>\n",
       "      <td>9382.033000</td>\n",
       "      <td>1.000000</td>\n",
       "      <td>0.000000</td>\n",
       "      <td>1.000000</td>\n",
       "      <td>0.000000</td>\n",
       "      <td>0.000000</td>\n",
       "      <td>0.000000</td>\n",
       "    </tr>\n",
       "    <tr>\n",
       "      <th>75%</th>\n",
       "      <td>51.000000</td>\n",
       "      <td>34.693750</td>\n",
       "      <td>16639.912515</td>\n",
       "      <td>2.000000</td>\n",
       "      <td>0.000000</td>\n",
       "      <td>1.000000</td>\n",
       "      <td>0.000000</td>\n",
       "      <td>1.000000</td>\n",
       "      <td>0.000000</td>\n",
       "    </tr>\n",
       "    <tr>\n",
       "      <th>max</th>\n",
       "      <td>64.000000</td>\n",
       "      <td>53.130000</td>\n",
       "      <td>63770.428010</td>\n",
       "      <td>5.000000</td>\n",
       "      <td>1.000000</td>\n",
       "      <td>1.000000</td>\n",
       "      <td>1.000000</td>\n",
       "      <td>1.000000</td>\n",
       "      <td>1.000000</td>\n",
       "    </tr>\n",
       "  </tbody>\n",
       "</table>\n",
       "</div>"
      ],
      "text/plain": [
       "               age          bmi  charges in INR     children       smoker  \\\n",
       "count  1338.000000  1338.000000     1338.000000  1338.000000  1338.000000   \n",
       "mean     39.207025    30.663397    13270.422265     1.094918     0.204783   \n",
       "std      14.049960     6.098187    12110.011237     1.205493     0.403694   \n",
       "min      18.000000    15.960000     1121.873900     0.000000     0.000000   \n",
       "25%      27.000000    26.296250     4740.287150     0.000000     0.000000   \n",
       "50%      39.000000    30.400000     9382.033000     1.000000     0.000000   \n",
       "75%      51.000000    34.693750    16639.912515     2.000000     0.000000   \n",
       "max      64.000000    53.130000    63770.428010     5.000000     1.000000   \n",
       "\n",
       "              male    northwest    southeast    southwest  \n",
       "count  1338.000000  1338.000000  1338.000000  1338.000000  \n",
       "mean      0.505232     0.242900     0.272048     0.242900  \n",
       "std       0.500160     0.428995     0.445181     0.428995  \n",
       "min       0.000000     0.000000     0.000000     0.000000  \n",
       "25%       0.000000     0.000000     0.000000     0.000000  \n",
       "50%       1.000000     0.000000     0.000000     0.000000  \n",
       "75%       1.000000     0.000000     1.000000     0.000000  \n",
       "max       1.000000     1.000000     1.000000     1.000000  "
      ]
     },
     "execution_count": 16,
     "metadata": {},
     "output_type": "execute_result"
    }
   ],
   "source": [
    "data.describe()"
   ]
  },
  {
   "cell_type": "markdown",
   "id": "1b1af511",
   "metadata": {},
   "source": [
    "### Checking for Outliers:"
   ]
  },
  {
   "cell_type": "code",
   "execution_count": 17,
   "id": "6e427fa0",
   "metadata": {},
   "outputs": [
    {
     "data": {
      "image/png": "[encoded data removed]",
      "text/plain": [
       "<Figure size 864x576 with 1 Axes>"
      ]
     },
     "metadata": {
      "needs_background": "light"
     },
     "output_type": "display_data"
    },
    {
     "data": {
      "image/png": "[encoded data removed]",
      "text/plain": [
       "<Figure size 864x576 with 1 Axes>"
      ]
     },
     "metadata": {
      "needs_background": "light"
     },
     "output_type": "display_data"
    },
    {
     "data": {
      "image/png": "[encoded data removed]",
      "text/plain": [
       "<Figure size 864x576 with 1 Axes>"
      ]
     },
     "metadata": {
      "needs_background": "light"
     },
     "output_type": "display_data"
    },
    {
     "data": {
      "image/png": "[encoded data removed]",
      "text/plain": [
       "<Figure size 864x576 with 1 Axes>"
      ]
     },
     "metadata": {
      "needs_background": "light"
     },
     "output_type": "display_data"
    },
    {
     "data": {
      "image/png": "[encoded data removed]",
      "text/plain": [
       "<Figure size 864x576 with 1 Axes>"
      ]
     },
     "metadata": {
      "needs_background": "light"
     },
     "output_type": "display_data"
    },
    {
     "data": {
      "image/png": "[encoded data removed]",
      "text/plain": [
       "<Figure size 864x576 with 1 Axes>"
      ]
     },
     "metadata": {
      "needs_background": "light"
     },
     "output_type": "display_data"
    },
    {
     "data": {
      "image/png": "[encoded data removed]",
      "text/plain": [
       "<Figure size 864x576 with 1 Axes>"
      ]
     },
     "metadata": {
      "needs_background": "light"
     },
     "output_type": "display_data"
    },
    {
     "data": {
      "image/png": "[encoded data removed]",
      "text/plain": [
       "<Figure size 864x576 with 1 Axes>"
      ]
     },
     "metadata": {
      "needs_background": "light"
     },
     "output_type": "display_data"
    },
    {
     "data": {
      "image/png": "[encoded data removed]",
      "text/plain": [
       "<Figure size 864x576 with 1 Axes>"
      ]
     },
     "metadata": {
      "needs_background": "light"
     },
     "output_type": "display_data"
    }
   ],
   "source": [
    "for col in data.columns:\n",
    "    f, ax1=plt.subplots(figsize= (12,8))\n",
    "    sns.boxplot(data[col])\n",
    "    plt.title(col + \"boxplot\")\n",
    "    plt.xlabel(\"values\")\n",
    "    plt.ylabel(\"boxplot\")"
   ]
  },
  {
   "cell_type": "markdown",
   "id": "e89e925d",
   "metadata": {},
   "source": [
    "FROM THE BOX PLOT WE CAN SEE THAT \"BMI\" and \"CHARGES IN INR\" COLUMNS HAS THE OUTLIERS IN THE UPPER WHISKER REGION"
   ]
  },
  {
   "cell_type": "markdown",
   "id": "7eb36e6a",
   "metadata": {},
   "source": [
    "### MULTICOLINEARITY TEST:\n",
    "- Corelation matrix or heat map(stage 1)"
   ]
  },
  {
   "cell_type": "code",
   "execution_count": 18,
   "id": "a65f7ac3",
   "metadata": {},
   "outputs": [
    {
     "data": {
      "text/plain": [
       "<AxesSubplot:>"
      ]
     },
     "execution_count": 18,
     "metadata": {},
     "output_type": "execute_result"
    },
    {
     "data": {
      "image/png": "[encoded data removed]",
      "text/plain": [
       "<Figure size 576x576 with 2 Axes>"
      ]
     },
     "metadata": {
      "needs_background": "light"
     },
     "output_type": "display_data"
    }
   ],
   "source": [
    "cor = data.corr()\n",
    "f, ax = plt.subplots(figsize=(8,8))\n",
    "sns.heatmap(cor, annot =True)"
   ]
  },
  {
   "cell_type": "markdown",
   "id": "315b0b55",
   "metadata": {},
   "source": [
    "- AS A GENERAL THUMB OF RULE IF THE CORRELATION VALUE IS GREATER THAN 0.3 OR 30%, THEN WE CAN SAY THAT THERE IS A CHANCE OF MULTICOLINARITY BETWEEN COLUMNS IN THE DATA."
   ]
  },
  {
   "cell_type": "markdown",
   "id": "3fc7e608",
   "metadata": {},
   "source": [
    "### MULTICOLINEARITY TEST:\n",
    "variation inflation factor(stage 2)"
   ]
  },
  {
   "cell_type": "code",
   "execution_count": 19,
   "id": "e2f75479",
   "metadata": {},
   "outputs": [
    {
     "data": {
      "text/html": [
       "<div>\n",
       "<style scoped>\n",
       "    .dataframe tbody tr th:only-of-type {\n",
       "        vertical-align: middle;\n",
       "    }\n",
       "\n",
       "    .dataframe tbody tr th {\n",
       "        vertical-align: top;\n",
       "    }\n",
       "\n",
       "    .dataframe thead th {\n",
       "        text-align: right;\n",
       "    }\n",
       "</style>\n",
       "<table border=\"1\" class=\"dataframe\">\n",
       "  <thead>\n",
       "    <tr style=\"text-align: right;\">\n",
       "      <th></th>\n",
       "      <th>features_name</th>\n",
       "      <th>VIF</th>\n",
       "    </tr>\n",
       "  </thead>\n",
       "  <tbody>\n",
       "    <tr>\n",
       "      <th>0</th>\n",
       "      <td>age</td>\n",
       "      <td>7.686965</td>\n",
       "    </tr>\n",
       "    <tr>\n",
       "      <th>1</th>\n",
       "      <td>bmi</td>\n",
       "      <td>11.358443</td>\n",
       "    </tr>\n",
       "    <tr>\n",
       "      <th>2</th>\n",
       "      <td>children</td>\n",
       "      <td>1.809930</td>\n",
       "    </tr>\n",
       "    <tr>\n",
       "      <th>3</th>\n",
       "      <td>smoker</td>\n",
       "      <td>1.261233</td>\n",
       "    </tr>\n",
       "    <tr>\n",
       "      <th>4</th>\n",
       "      <td>male</td>\n",
       "      <td>2.003185</td>\n",
       "    </tr>\n",
       "    <tr>\n",
       "      <th>5</th>\n",
       "      <td>northwest</td>\n",
       "      <td>1.890281</td>\n",
       "    </tr>\n",
       "    <tr>\n",
       "      <th>6</th>\n",
       "      <td>southeast</td>\n",
       "      <td>2.265564</td>\n",
       "    </tr>\n",
       "    <tr>\n",
       "      <th>7</th>\n",
       "      <td>southwest</td>\n",
       "      <td>1.960745</td>\n",
       "    </tr>\n",
       "  </tbody>\n",
       "</table>\n",
       "</div>"
      ],
      "text/plain": [
       "  features_name        VIF\n",
       "0           age   7.686965\n",
       "1           bmi  11.358443\n",
       "2      children   1.809930\n",
       "3        smoker   1.261233\n",
       "4          male   2.003185\n",
       "5     northwest   1.890281\n",
       "6     southeast   2.265564\n",
       "7     southwest   1.960745"
      ]
     },
     "execution_count": 19,
     "metadata": {},
     "output_type": "execute_result"
    }
   ],
   "source": [
    "vif = pd.DataFrame()\n",
    "features = data.drop('charges in INR', axis=1)\n",
    "vif['features_name'] = features.columns\n",
    "vif['VIF']= [variance_inflation_factor(features,i) for i in range(features.shape[1])]\n",
    "vif"
   ]
  },
  {
   "cell_type": "markdown",
   "id": "918a563c",
   "metadata": {},
   "source": [
    "FROM THE ANALYSIS ABOVE WE CAN SEE THAT ONLY TWO COLUMNS HAVE VIF > 5, SO WE CAN SAY THAT MULTICOLINEARITY DOESNOT EXISTS."
   ]
  },
  {
   "cell_type": "markdown",
   "id": "d4e3d29e",
   "metadata": {},
   "source": [
    "### MODEL BUILDING:\n",
    "- test-train-split\n",
    "- stratified kfold cross validation\n",
    "- hyperparametre tunning"
   ]
  },
  {
   "cell_type": "code",
   "execution_count": 20,
   "id": "df2ab83d",
   "metadata": {},
   "outputs": [],
   "source": [
    "X = data.drop('charges in INR', axis=1)\n",
    "y = data['charges in INR']"
   ]
  },
  {
   "cell_type": "code",
   "execution_count": 21,
   "id": "6e49fbd9",
   "metadata": {},
   "outputs": [],
   "source": [
    "def model_builder(model):\n",
    "    x_train, x_test, y_train, y_test = train_test_split(X, y, test_size=0.3, random_state=21)\n",
    "    model.fit(x_train,y_train)\n",
    "    y_pred = model.predict(x_test)\n",
    "    R2_score = r2_score(y_test, y_pred)\n",
    "    RMSE = np.sqrt(mean_squared_error(y_test, y_pred))\n",
    "    return(type(model).__name__,R2_score,RMSE)"
   ]
  },
  {
   "cell_type": "code",
   "execution_count": 22,
   "id": "07db1f8a",
   "metadata": {},
   "outputs": [],
   "source": [
    "mod = [LinearRegression(), Lasso(), Ridge(),SVR(),DecisionTreeRegressor(), RandomForestRegressor(), AdaBoostRegressor(),\n",
    "       GradientBoostingRegressor(),XGBRegressor(), KNeighborsRegressor()]\n",
    "res = []\n",
    "for i in range(len(mod)):\n",
    "    res.append(model_builder(mod[i]))\n",
    "\n",
    "my_res = pd.DataFrame(res, columns=['Model_name','R2_score','RMSE'])"
   ]
  },
  {
   "cell_type": "code",
   "execution_count": 23,
   "id": "e7045e88",
   "metadata": {},
   "outputs": [
    {
     "data": {
      "text/html": [
       "<div>\n",
       "<style scoped>\n",
       "    .dataframe tbody tr th:only-of-type {\n",
       "        vertical-align: middle;\n",
       "    }\n",
       "\n",
       "    .dataframe tbody tr th {\n",
       "        vertical-align: top;\n",
       "    }\n",
       "\n",
       "    .dataframe thead th {\n",
       "        text-align: right;\n",
       "    }\n",
       "</style>\n",
       "<table border=\"1\" class=\"dataframe\">\n",
       "  <thead>\n",
       "    <tr style=\"text-align: right;\">\n",
       "      <th></th>\n",
       "      <th>Model_name</th>\n",
       "      <th>R2_score</th>\n",
       "      <th>RMSE</th>\n",
       "    </tr>\n",
       "  </thead>\n",
       "  <tbody>\n",
       "    <tr>\n",
       "      <th>7</th>\n",
       "      <td>GradientBoostingRegressor</td>\n",
       "      <td>0.839154</td>\n",
       "      <td>4691.906156</td>\n",
       "    </tr>\n",
       "    <tr>\n",
       "      <th>5</th>\n",
       "      <td>RandomForestRegressor</td>\n",
       "      <td>0.825009</td>\n",
       "      <td>4893.861323</td>\n",
       "    </tr>\n",
       "    <tr>\n",
       "      <th>6</th>\n",
       "      <td>AdaBoostRegressor</td>\n",
       "      <td>0.811622</td>\n",
       "      <td>5077.607997</td>\n",
       "    </tr>\n",
       "    <tr>\n",
       "      <th>8</th>\n",
       "      <td>XGBRegressor</td>\n",
       "      <td>0.787717</td>\n",
       "      <td>5390.160723</td>\n",
       "    </tr>\n",
       "    <tr>\n",
       "      <th>2</th>\n",
       "      <td>Ridge</td>\n",
       "      <td>0.734112</td>\n",
       "      <td>6032.449301</td>\n",
       "    </tr>\n",
       "    <tr>\n",
       "      <th>1</th>\n",
       "      <td>Lasso</td>\n",
       "      <td>0.733777</td>\n",
       "      <td>6036.243447</td>\n",
       "    </tr>\n",
       "    <tr>\n",
       "      <th>0</th>\n",
       "      <td>LinearRegression</td>\n",
       "      <td>0.733707</td>\n",
       "      <td>6037.036541</td>\n",
       "    </tr>\n",
       "    <tr>\n",
       "      <th>4</th>\n",
       "      <td>DecisionTreeRegressor</td>\n",
       "      <td>0.610380</td>\n",
       "      <td>7302.383647</td>\n",
       "    </tr>\n",
       "    <tr>\n",
       "      <th>9</th>\n",
       "      <td>KNeighborsRegressor</td>\n",
       "      <td>0.036631</td>\n",
       "      <td>11482.600479</td>\n",
       "    </tr>\n",
       "    <tr>\n",
       "      <th>3</th>\n",
       "      <td>SVR</td>\n",
       "      <td>-0.185062</td>\n",
       "      <td>12735.453986</td>\n",
       "    </tr>\n",
       "  </tbody>\n",
       "</table>\n",
       "</div>"
      ],
      "text/plain": [
       "                  Model_name  R2_score          RMSE\n",
       "7  GradientBoostingRegressor  0.839154   4691.906156\n",
       "5      RandomForestRegressor  0.825009   4893.861323\n",
       "6          AdaBoostRegressor  0.811622   5077.607997\n",
       "8               XGBRegressor  0.787717   5390.160723\n",
       "2                      Ridge  0.734112   6032.449301\n",
       "1                      Lasso  0.733777   6036.243447\n",
       "0           LinearRegression  0.733707   6037.036541\n",
       "4      DecisionTreeRegressor  0.610380   7302.383647\n",
       "9        KNeighborsRegressor  0.036631  11482.600479\n",
       "3                        SVR -0.185062  12735.453986"
      ]
     },
     "execution_count": 23,
     "metadata": {},
     "output_type": "execute_result"
    }
   ],
   "source": [
    "my_res.sort_values('R2_score', ascending=False)"
   ]
  },
  {
   "cell_type": "markdown",
   "id": "a2ed7ccf",
   "metadata": {},
   "source": [
    "### K- Fold Cross Validation"
   ]
  },
  {
   "cell_type": "code",
   "execution_count": 28,
   "id": "6d2c37be",
   "metadata": {},
   "outputs": [
    {
     "data": {
      "text/html": [
       "<div>\n",
       "<style scoped>\n",
       "    .dataframe tbody tr th:only-of-type {\n",
       "        vertical-align: middle;\n",
       "    }\n",
       "\n",
       "    .dataframe tbody tr th {\n",
       "        vertical-align: top;\n",
       "    }\n",
       "\n",
       "    .dataframe thead th {\n",
       "        text-align: right;\n",
       "    }\n",
       "</style>\n",
       "<table border=\"1\" class=\"dataframe\">\n",
       "  <thead>\n",
       "    <tr style=\"text-align: right;\">\n",
       "      <th></th>\n",
       "      <th>model_names</th>\n",
       "      <th>CV_accuracy</th>\n",
       "      <th>CV_STD</th>\n",
       "    </tr>\n",
       "  </thead>\n",
       "  <tbody>\n",
       "    <tr>\n",
       "      <th>7</th>\n",
       "      <td>GradientBoostingRegressor</td>\n",
       "      <td>0.857154</td>\n",
       "      <td>0.026958</td>\n",
       "    </tr>\n",
       "    <tr>\n",
       "      <th>5</th>\n",
       "      <td>RandomForestRegressor</td>\n",
       "      <td>0.832039</td>\n",
       "      <td>0.025501</td>\n",
       "    </tr>\n",
       "    <tr>\n",
       "      <th>6</th>\n",
       "      <td>AdaBoostRegressor</td>\n",
       "      <td>0.817429</td>\n",
       "      <td>0.021063</td>\n",
       "    </tr>\n",
       "    <tr>\n",
       "      <th>8</th>\n",
       "      <td>XGBRegressor</td>\n",
       "      <td>0.811417</td>\n",
       "      <td>0.025940</td>\n",
       "    </tr>\n",
       "    <tr>\n",
       "      <th>2</th>\n",
       "      <td>Ridge</td>\n",
       "      <td>0.743785</td>\n",
       "      <td>0.037570</td>\n",
       "    </tr>\n",
       "    <tr>\n",
       "      <th>1</th>\n",
       "      <td>Lasso</td>\n",
       "      <td>0.743760</td>\n",
       "      <td>0.037859</td>\n",
       "    </tr>\n",
       "    <tr>\n",
       "      <th>0</th>\n",
       "      <td>LinearRegression</td>\n",
       "      <td>0.743754</td>\n",
       "      <td>0.037876</td>\n",
       "    </tr>\n",
       "    <tr>\n",
       "      <th>4</th>\n",
       "      <td>DecisionTreeRegressor</td>\n",
       "      <td>0.702034</td>\n",
       "      <td>0.060420</td>\n",
       "    </tr>\n",
       "    <tr>\n",
       "      <th>9</th>\n",
       "      <td>KNeighborsRegressor</td>\n",
       "      <td>0.127501</td>\n",
       "      <td>0.111945</td>\n",
       "    </tr>\n",
       "    <tr>\n",
       "      <th>3</th>\n",
       "      <td>SVR</td>\n",
       "      <td>-0.108291</td>\n",
       "      <td>0.046787</td>\n",
       "    </tr>\n",
       "  </tbody>\n",
       "</table>\n",
       "</div>"
      ],
      "text/plain": [
       "                 model_names  CV_accuracy    CV_STD\n",
       "7  GradientBoostingRegressor     0.857154  0.026958\n",
       "5      RandomForestRegressor     0.832039  0.025501\n",
       "6          AdaBoostRegressor     0.817429  0.021063\n",
       "8               XGBRegressor     0.811417  0.025940\n",
       "2                      Ridge     0.743785  0.037570\n",
       "1                      Lasso     0.743760  0.037859\n",
       "0           LinearRegression     0.743754  0.037876\n",
       "4      DecisionTreeRegressor     0.702034  0.060420\n",
       "9        KNeighborsRegressor     0.127501  0.111945\n",
       "3                        SVR    -0.108291  0.046787"
      ]
     },
     "execution_count": 28,
     "metadata": {},
     "output_type": "execute_result"
    }
   ],
   "source": [
    "models = [LinearRegression(), Lasso(), Ridge(),SVR(),DecisionTreeRegressor(), RandomForestRegressor(), AdaBoostRegressor(),\n",
    "       GradientBoostingRegressor(),XGBRegressor(), KNeighborsRegressor()]\n",
    "\n",
    "col_names = ['model_names','CV_accuracy','CV_STD']\n",
    "results = pd.DataFrame(columns=col_names)\n",
    "\n",
    "for i in range(len(models)):\n",
    "    kfold= KFold(n_splits=10, shuffle=True,random_state=1)\n",
    "    cv = cross_val_score(models[i],X,y,cv=kfold)\n",
    "    mean_score = np.mean(cv)\n",
    "    std_score = np.std(cv)\n",
    "    results.loc[len(results)] = [type(models[i]).__name__,mean_score,std_score]\n",
    "    \n",
    "results.sort_values('CV_accuracy', ascending = False)"
   ]
  },
  {
   "cell_type": "markdown",
   "id": "8859a4ca",
   "metadata": {},
   "source": [
    "IF WE COMPARE THE RESULTS OF ALL THE MODELS WITH AND WITHOUT THE K-FOLD CROSS VALIDATION THERE IS AN INCREASE OF 3% IN THE ACCURACY"
   ]
  },
  {
   "cell_type": "markdown",
   "id": "4363b1cb",
   "metadata": {},
   "source": [
    "### HYPERPARAMETRE TUNNING:"
   ]
  },
  {
   "cell_type": "code",
   "execution_count": 29,
   "id": "e484bc1e",
   "metadata": {},
   "outputs": [
    {
     "name": "stdout",
     "output_type": "stream",
     "text": [
      "model : Lasso\n",
      "best parametre : {'alpha': 30}\n",
      "model : Ridge\n",
      "best parametre : {'alpha': 1}\n",
      "model : KNN\n",
      "best parametre : {'n_neighbors': 7}\n",
      "model : Decision Tree\n",
      "best parametre : {'max_depth': 5, 'max_features': 'auto'}\n",
      "model : SVM\n",
      "best parametre : {'C': 1, 'gamma': 'scale'}\n",
      "model : ADA Boost\n",
      "best parametre : {'learning_rate': 0.1}\n",
      "model : Gradient Boosting\n",
      "best parametre : {'alpha': 0.1}\n",
      "model : XG Boost\n",
      "best parametre : {'eta': 0.1, 'gamma': 0, 'max_depth': 3, 'reg_lambda': 1}\n",
      "model : Random Forrest\n",
      "best parametre : {'max_depth': 5, 'max_features': 5}\n"
     ]
    }
   ],
   "source": [
    "param_las= {'alpha': [1e-15,1e-13,1e-11,1e-9,1e-7,1e-5,1e-3,1e-1,0,1,2,3,4,5,6,7,8,9,10,20,30,40,50,60,70,80,90,100,200,300,400,500]}\n",
    "param_knn = {'n_neighbors':[1,2,3,4,5,6,7,8,9,10,20,30,40,50,60,70,80,90,100]}\n",
    "param_dtr = {'max_depth':[3,5,7,9,10,12,14,16],'max_features':['auto','log2','sqrt',2,3,4,5,6]}\n",
    "param_svr = {'gamma':['scale','auto'],'C':[0.5,1]}\n",
    "param_adb = {'learning_rate':[0.1,0.2,0.3,0.4,0.5,0.6,0.7,0.8,0.9,1]}\n",
    "param_gb  = {'alpha':[0.1,0.2,0.3,0.4,0.5,0.6,0.7,0.8,0.9,1]}\n",
    "param_xgb = {'eta':[0.0,0.1,0.2,0.3,0.4,0.5],'max_depth':[3,5,7,9,10],'gamma':[0,10,20,30,40,50,60,70,80,90,100,200,300,400,500],'reg_lambda':[0,1]}\n",
    "param_RF  = {'max_depth':[3,5,7,9,10,12,14,16],'max_features':['auto','log2','sqrt',2,3,4,5,6]}\n",
    "\n",
    "\n",
    "tune_las = GridSearchCV(Lasso(),param_las, cv=10)\n",
    "tune_rid = GridSearchCV(Ridge(),param_las, cv=10)\n",
    "tune_knn = GridSearchCV(KNeighborsRegressor(),param_knn, cv=10)\n",
    "tune_dtr = GridSearchCV(DecisionTreeRegressor(),param_dtr, cv=10)\n",
    "tune_svr = GridSearchCV(SVR(),param_svr, cv=10)\n",
    "tune_gb = GridSearchCV(GradientBoostingRegressor(),param_gb, cv=10)\n",
    "tune_adb = GridSearchCV(AdaBoostRegressor(),param_adb, cv=10)\n",
    "tune_xgb = GridSearchCV(XGBRegressor(),param_xgb, cv=10)\n",
    "tune_RFR = GridSearchCV(RandomForestRegressor(),param_RF, cv=10)\n",
    "\n",
    "tune_las.fit(X,y)\n",
    "tune_rid.fit(X,y)\n",
    "tune_knn.fit(X,y)\n",
    "tune_dtr.fit(X,y)\n",
    "tune_svr.fit(X,y)\n",
    "tune_gb.fit(X,y)\n",
    "tune_adb.fit(X,y)\n",
    "tune_xgb.fit(X,y)\n",
    "tune_RFR.fit(X,y)\n",
    "\n",
    "tune = [tune_las,tune_rid, tune_knn,tune_dtr,tune_svr,tune_adb,tune_gb,tune_xgb,tune_RFR]\n",
    "models = ['Lasso','Ridge','KNN','Decision Tree','SVM','ADA Boost','Gradient Boosting','XG Boost','Random Forrest']\n",
    "\n",
    "for i in range(len(tune)):\n",
    "    print(\"model :\",models[i])\n",
    "    print(\"best parametre :\", tune[i].best_params_)\n",
    "    \n",
    "    "
   ]
  },
  {
   "cell_type": "markdown",
   "id": "cde28f57",
   "metadata": {},
   "source": [
    "### K-Fold Cross Validation Post Hyperparametre Tuning:"
   ]
  },
  {
   "cell_type": "code",
   "execution_count": 37,
   "id": "e3d5be22",
   "metadata": {},
   "outputs": [
    {
     "data": {
      "text/html": [
       "<div>\n",
       "<style scoped>\n",
       "    .dataframe tbody tr th:only-of-type {\n",
       "        vertical-align: middle;\n",
       "    }\n",
       "\n",
       "    .dataframe tbody tr th {\n",
       "        vertical-align: top;\n",
       "    }\n",
       "\n",
       "    .dataframe thead th {\n",
       "        text-align: right;\n",
       "    }\n",
       "</style>\n",
       "<table border=\"1\" class=\"dataframe\">\n",
       "  <thead>\n",
       "    <tr style=\"text-align: right;\">\n",
       "      <th></th>\n",
       "      <th>model_names</th>\n",
       "      <th>CV_accuracy</th>\n",
       "      <th>CV_STD</th>\n",
       "    </tr>\n",
       "  </thead>\n",
       "  <tbody>\n",
       "    <tr>\n",
       "      <th>7</th>\n",
       "      <td>GradientBoostingRegressor</td>\n",
       "      <td>0.861377</td>\n",
       "      <td>0.027283</td>\n",
       "    </tr>\n",
       "    <tr>\n",
       "      <th>5</th>\n",
       "      <td>RandomForestRegressor</td>\n",
       "      <td>0.860194</td>\n",
       "      <td>0.027458</td>\n",
       "    </tr>\n",
       "    <tr>\n",
       "      <th>8</th>\n",
       "      <td>XGBRegressor</td>\n",
       "      <td>0.859274</td>\n",
       "      <td>0.027115</td>\n",
       "    </tr>\n",
       "    <tr>\n",
       "      <th>4</th>\n",
       "      <td>DecisionTreeRegressor</td>\n",
       "      <td>0.851477</td>\n",
       "      <td>0.021819</td>\n",
       "    </tr>\n",
       "    <tr>\n",
       "      <th>6</th>\n",
       "      <td>AdaBoostRegressor</td>\n",
       "      <td>0.829968</td>\n",
       "      <td>0.022896</td>\n",
       "    </tr>\n",
       "    <tr>\n",
       "      <th>1</th>\n",
       "      <td>Lasso</td>\n",
       "      <td>0.743900</td>\n",
       "      <td>0.037465</td>\n",
       "    </tr>\n",
       "    <tr>\n",
       "      <th>2</th>\n",
       "      <td>Ridge</td>\n",
       "      <td>0.743785</td>\n",
       "      <td>0.037570</td>\n",
       "    </tr>\n",
       "    <tr>\n",
       "      <th>0</th>\n",
       "      <td>LinearRegression</td>\n",
       "      <td>0.743754</td>\n",
       "      <td>0.037876</td>\n",
       "    </tr>\n",
       "    <tr>\n",
       "      <th>9</th>\n",
       "      <td>KNeighborsRegressor</td>\n",
       "      <td>0.135081</td>\n",
       "      <td>0.093737</td>\n",
       "    </tr>\n",
       "    <tr>\n",
       "      <th>3</th>\n",
       "      <td>SVR</td>\n",
       "      <td>-0.108291</td>\n",
       "      <td>0.046787</td>\n",
       "    </tr>\n",
       "  </tbody>\n",
       "</table>\n",
       "</div>"
      ],
      "text/plain": [
       "                 model_names  CV_accuracy    CV_STD\n",
       "7  GradientBoostingRegressor     0.861377  0.027283\n",
       "5      RandomForestRegressor     0.860194  0.027458\n",
       "8               XGBRegressor     0.859274  0.027115\n",
       "4      DecisionTreeRegressor     0.851477  0.021819\n",
       "6          AdaBoostRegressor     0.829968  0.022896\n",
       "1                      Lasso     0.743900  0.037465\n",
       "2                      Ridge     0.743785  0.037570\n",
       "0           LinearRegression     0.743754  0.037876\n",
       "9        KNeighborsRegressor     0.135081  0.093737\n",
       "3                        SVR    -0.108291  0.046787"
      ]
     },
     "execution_count": 37,
     "metadata": {},
     "output_type": "execute_result"
    }
   ],
   "source": [
    "models = [LinearRegression(), Lasso(alpha=30), Ridge(alpha=1),SVR(C=1,gamma='scale'),DecisionTreeRegressor(max_depth=5,max_features='auto'), RandomForestRegressor(max_depth=5,max_features=5), AdaBoostRegressor(learning_rate=0.1),\n",
    "       GradientBoostingRegressor(alpha=0.1,loss='squared_error',n_estimators=40),XGBRegressor(eta=0.1,gamma=0,max_depth=3,reg_lambda=1), KNeighborsRegressor(n_neighbors=7)]\n",
    "\n",
    "col_names = ['model_names','CV_accuracy','CV_STD']\n",
    "results_hyper = pd.DataFrame(columns=col_names)\n",
    "\n",
    "for i in range(len(models)):\n",
    "    kfold= KFold(n_splits=10, shuffle=True,random_state=1)\n",
    "    cv = cross_val_score(models[i],X,y,cv=kfold)\n",
    "    mean_score = np.mean(cv)\n",
    "    std_score = np.std(cv)\n",
    "    results_hyper.loc[len(results_hyper)] = [type(models[i]).__name__,mean_score,std_score]\n",
    "    \n",
    "results_hyper.sort_values('CV_accuracy', ascending=False)"
   ]
  },
  {
   "cell_type": "code",
   "execution_count": 36,
   "id": "5f103f5f",
   "metadata": {},
   "outputs": [
    {
     "name": "stdout",
     "output_type": "stream",
     "text": [
      "{'alpha': 0.1, 'loss': 'squared_error', 'n_estimators': 40}\n"
     ]
    }
   ],
   "source": [
    "param_gb  = {'alpha':[0.1,0.2,0.3,0.4,0.5,0.6,0.7,0.8,0.9,1],\n",
    "            'loss': ['squared_error', 'absolute_error', 'huber', 'quantile'],\n",
    "            'n_estimators': [10,10,30,40,50,60,70,80,90,100,150,200,250,300,350,400,450,500],\n",
    "            }\n",
    "\n",
    "decison_tune = GridSearchCV(GradientBoostingRegressor(), param_gb, cv=10)\n",
    "decison_tune.fit(X,y)\n",
    "print(decison_tune.best_params_)"
   ]
  },
  {
   "cell_type": "markdown",
   "id": "8a0e2202",
   "metadata": {},
   "source": [
    "FROM POST HYPERPARAMETER TUNING WE CAN SEE THAT THERE IS SIGNIFICANT INCREASE IN THE PERFORMANCE OF SOME ALGORITHMS LIKE:\n",
    "- DECISION TREE\n",
    "- XG BOOST"
   ]
  },
  {
   "cell_type": "code",
   "execution_count": 40,
   "id": "e86eed9f",
   "metadata": {},
   "outputs": [
    {
     "data": {
      "text/plain": [
       "('GradientBoostingRegressor', 0.8479797407101457, 4561.363487650621)"
      ]
     },
     "execution_count": 40,
     "metadata": {},
     "output_type": "execute_result"
    }
   ],
   "source": [
    "model_builder(GradientBoostingRegressor(alpha=0.1,loss='squared_error',n_estimators=40))"
   ]
  },
  {
   "cell_type": "markdown",
   "id": "60df77b0",
   "metadata": {},
   "source": [
    "### Dumping the model using PICKLE:"
   ]
  },
  {
   "cell_type": "code",
   "execution_count": 108,
   "id": "18a46b83",
   "metadata": {},
   "outputs": [],
   "source": [
    "import pickle"
   ]
  },
  {
   "cell_type": "code",
   "execution_count": 109,
   "id": "f7c6c303",
   "metadata": {},
   "outputs": [],
   "source": [
    "Regressor = GradientBoostingRegressor(alpha=0.1,loss='squared_error',n_estimators=40)"
   ]
  },
  {
   "cell_type": "code",
   "execution_count": 111,
   "id": "4faf27d1",
   "metadata": {},
   "outputs": [
    {
     "data": {
      "text/plain": [
       "GradientBoostingRegressor(alpha=0.1, n_estimators=40)"
      ]
     },
     "execution_count": 111,
     "metadata": {},
     "output_type": "execute_result"
    }
   ],
   "source": [
    "Regressor.fit(X,y)"
   ]
  },
  {
   "cell_type": "code",
   "execution_count": 112,
   "id": "c2216f67",
   "metadata": {},
   "outputs": [],
   "source": [
    "pickle.dump(Regressor, open('model.pkl','wb'))"
   ]
  },
  {
   "cell_type": "code",
   "execution_count": 113,
   "id": "3c596693",
   "metadata": {},
   "outputs": [],
   "source": [
    "model = pickle.load(open('model.pkl','rb'))"
   ]
  },
  {
   "cell_type": "code",
   "execution_count": 115,
   "id": "28062480",
   "metadata": {},
   "outputs": [
    {
     "data": {
      "text/plain": [
       "array([2731.34889705])"
      ]
     },
     "execution_count": 115,
     "metadata": {},
     "output_type": "execute_result"
    }
   ],
   "source": [
    "#test_=[20,19,0,0,0,0,0,0]\n",
    "#Regressor.predict(np.reshape(test_,(1,8)))"
   ]
  },
  {
   "cell_type": "code",
   "execution_count": 114,
   "id": "5c9e6f29",
   "metadata": {},
   "outputs": [
    {
     "data": {
      "text/html": [
       "<div>\n",
       "<style scoped>\n",
       "    .dataframe tbody tr th:only-of-type {\n",
       "        vertical-align: middle;\n",
       "    }\n",
       "\n",
       "    .dataframe tbody tr th {\n",
       "        vertical-align: top;\n",
       "    }\n",
       "\n",
       "    .dataframe thead th {\n",
       "        text-align: right;\n",
       "    }\n",
       "</style>\n",
       "<table border=\"1\" class=\"dataframe\">\n",
       "  <thead>\n",
       "    <tr style=\"text-align: right;\">\n",
       "      <th></th>\n",
       "      <th>age</th>\n",
       "      <th>bmi</th>\n",
       "      <th>children</th>\n",
       "      <th>smoker</th>\n",
       "      <th>male</th>\n",
       "      <th>northwest</th>\n",
       "      <th>southeast</th>\n",
       "      <th>southwest</th>\n",
       "    </tr>\n",
       "  </thead>\n",
       "  <tbody>\n",
       "    <tr>\n",
       "      <th>0</th>\n",
       "      <td>19.0</td>\n",
       "      <td>27.900</td>\n",
       "      <td>0</td>\n",
       "      <td>1</td>\n",
       "      <td>0</td>\n",
       "      <td>0</td>\n",
       "      <td>0</td>\n",
       "      <td>1</td>\n",
       "    </tr>\n",
       "    <tr>\n",
       "      <th>1</th>\n",
       "      <td>18.0</td>\n",
       "      <td>33.770</td>\n",
       "      <td>1</td>\n",
       "      <td>0</td>\n",
       "      <td>1</td>\n",
       "      <td>0</td>\n",
       "      <td>1</td>\n",
       "      <td>0</td>\n",
       "    </tr>\n",
       "    <tr>\n",
       "      <th>2</th>\n",
       "      <td>28.0</td>\n",
       "      <td>33.000</td>\n",
       "      <td>3</td>\n",
       "      <td>0</td>\n",
       "      <td>1</td>\n",
       "      <td>0</td>\n",
       "      <td>1</td>\n",
       "      <td>0</td>\n",
       "    </tr>\n",
       "    <tr>\n",
       "      <th>3</th>\n",
       "      <td>33.0</td>\n",
       "      <td>22.705</td>\n",
       "      <td>0</td>\n",
       "      <td>0</td>\n",
       "      <td>1</td>\n",
       "      <td>1</td>\n",
       "      <td>0</td>\n",
       "      <td>0</td>\n",
       "    </tr>\n",
       "    <tr>\n",
       "      <th>4</th>\n",
       "      <td>32.0</td>\n",
       "      <td>28.880</td>\n",
       "      <td>0</td>\n",
       "      <td>0</td>\n",
       "      <td>1</td>\n",
       "      <td>1</td>\n",
       "      <td>0</td>\n",
       "      <td>0</td>\n",
       "    </tr>\n",
       "  </tbody>\n",
       "</table>\n",
       "</div>"
      ],
      "text/plain": [
       "    age     bmi  children  smoker  male  northwest  southeast  southwest\n",
       "0  19.0  27.900         0       1     0          0          0          1\n",
       "1  18.0  33.770         1       0     1          0          1          0\n",
       "2  28.0  33.000         3       0     1          0          1          0\n",
       "3  33.0  22.705         0       0     1          1          0          0\n",
       "4  32.0  28.880         0       0     1          1          0          0"
      ]
     },
     "execution_count": 114,
     "metadata": {},
     "output_type": "execute_result"
    }
   ],
   "source": [
    "X.head()"
   ]
  },
  {
   "cell_type": "code",
   "execution_count": null,
   "id": "03ab307f",
   "metadata": {},
   "outputs": [],
   "source": []
  }
 ],
 "metadata": {
  "kernelspec": {
   "display_name": "Python 3 (ipykernel)",
   "language": "python",
   "name": "python3"
  },
  "language_info": {
   "codemirror_mode": {
    "name": "ipython",
    "version": 3
   },
   "file_extension": ".py",
   "mimetype": "text/x-python",
   "name": "python",
   "nbconvert_exporter": "python",
   "pygments_lexer": "ipython3",
   "version": "3.9.12"
  }
 },
 "nbformat": 4,
 "nbformat_minor": 5
}
